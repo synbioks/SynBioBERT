{
 "cells": [
  {
   "cell_type": "markdown",
   "metadata": {},
   "source": [
    "# May 15 2020\n",
    "Previously, the HUNER datasets were used to fine-tune BioBERT, using the TEST (holdout) partition to calculate performace. This is not ideal, so in the following experiments, the DEV partition will be used to calculate F1 during training, and the TEST partition will be used to calculate the final evaluation metrics for each model/task. "
   ]
  },
  {
   "cell_type": "markdown",
   "metadata": {},
   "source": [
    "## Preprocessing\n",
    "In MTT, alter `preprocess.py` so that `huner_datasets` is a dictionary containing the datasets for preprocessing. "
   ]
  },
  {
   "cell_type": "code",
   "execution_count": 2,
   "metadata": {},
   "outputs": [],
   "source": [
    "# preprocessing.py\n",
    "huner_datasets = {\n",
    "    'cellline': ['gellus'],\n",
    "    'chemical': ['chebi'],\n",
    "    'gene': ['variome'],\n",
    "    'species': ['variome']\n",
    "}"
   ]
  },
  {
   "cell_type": "markdown",
   "metadata": {},
   "source": [
    "These contain all of the full text article datasets available to us currently with the highest F1 score in the previous experiments. "
   ]
  },
  {
   "cell_type": "markdown",
   "metadata": {},
   "source": [
    "Activate virtual environment"
   ]
  },
  {
   "cell_type": "markdown",
   "metadata": {},
   "source": [
    "```bash\n",
    "source ~/envs/mtt_env/bin/activate\n",
    "```"
   ]
  },
  {
   "cell_type": "code",
   "execution_count": null,
   "metadata": {},
   "outputs": [],
   "source": []
  }
 ],
 "metadata": {
  "kernelspec": {
   "display_name": "PyCharm (synbiobert)",
   "language": "python",
   "name": "pycharm-a9251040"
  },
  "language_info": {
   "codemirror_mode": {
    "name": "ipython",
    "version": 3
   },
   "file_extension": ".py",
   "mimetype": "text/x-python",
   "name": "python",
   "nbconvert_exporter": "python",
   "pygments_lexer": "ipython3",
   "version": "3.7.6"
  }
 },
 "nbformat": 4,
 "nbformat_minor": 4
}
