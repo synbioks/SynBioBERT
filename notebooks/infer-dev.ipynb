{
 "cells": [
  {
   "cell_type": "code",
   "execution_count": 2,
   "metadata": {
    "pycharm": {
     "is_executing": false
    }
   },
   "outputs": [],
   "source": [
    "'''predict entities using pre-trained/fine-tuned bert model'''\n",
    "\n",
    "import os\n",
    "import logging\n",
    "import torch\n",
    "from transformers import BertConfig, BertModel, BertForTokenClassification\n",
    "from tokenizers import BertWordPieceTokenizer\n",
    "\n",
    "# log = logging.getLogger('root')\n",
    "\n",
    "class InferNER(object):\n",
    "    \"\"\" \"\"\"\n",
    "    def __init__(self, base_model_directory, head_directory, use_tf_model=False):\n",
    "        self.device = \"cuda\" if torch.cuda.is_available() else \"cpu\"\n",
    "        path_to_vocab = os.path.join(head_directory, 'vocab.txt')\n",
    "        path_to_head_config = os.path.join(head_directory, 'config.json')\n",
    "\n",
    "        ## LOAD MODEL\n",
    "        self.head_config = BertConfig.from_json_file(path_to_head_config)\n",
    "\n",
    "        # use_tf_model in the case that you're using a pre-trained model from a tensorflow checkpoint.\n",
    "        if not use_tf_model:\n",
    "            use_tf_model = 'biobert_v1' in base_model_directory \\\n",
    "                       or 'biobert_large' in base_model_directory\n",
    "\n",
    "        self.bert = BertForTokenClassification.from_pretrained(head_directory, config=self.head_config)\n",
    "        self.tokenizer = BertWordPieceTokenizer(path_to_vocab,\n",
    "                                                lowercase=False)\n",
    "        print('Loaded BERT head, config, and tokenizer')\n",
    "\n",
    "\n",
    "\n",
    "\n",
    "    def infer(self):\n",
    "        # Write argmax label to .ann\n",
    "        # Spacy?\n",
    "        pass\n",
    "\n",
    "    # def predict(self, text):\n",
    "    #     input_ids, input_mask = self.preprocess(text)\n",
    "    #     input_ids = torch.tensor([input_ids],dtype=torch.long,device=self.device)\n",
    "    #     input_mask = torch.tensor([input_mask],dtype=torch.long,device=self.device)\n",
    "    #     segment_ids = torch.tensor([segment_ids],dtype=torch.long,device=self.device)\n",
    "    #     valid_ids = torch.tensor([valid_ids],dtype=torch.long,device=self.device)\n",
    "    #     with torch.no_grad():\n",
    "    #         logits = self.model(input_ids, segment_ids, input_mask,valid_ids)\n",
    "    #     logits = F.softmax(logits,dim=2)\n",
    "    #     logits_label = torch.argmax(logits,dim=2)\n",
    "    #     logits_label = logits_label.detach().cpu().numpy().tolist()[0]\n",
    "    # \n",
    "    #     logits_confidence = [values[label].item() for values,label in zip(logits[0],logits_label)]\n",
    "    # \n",
    "    #     logits = []\n",
    "    #     pos = 0\n",
    "    #     for index,mask in enumerate(valid_ids[0]):\n",
    "    #         if index == 0:\n",
    "    #             continue\n",
    "    #         if mask == 1:\n",
    "    #             logits.append((logits_label[index-pos],logits_confidence[index-pos]))\n",
    "    #         else:\n",
    "    #             pos += 1\n",
    "    #     logits.pop()\n",
    "    # \n",
    "    #     labels = [(self.label_map[label],confidence) for label,confidence in logits]\n",
    "    #     words = word_tokenize(text)\n",
    "    #     assert len(labels) == len(words)\n",
    "    #     output = [{\"word\":word,\"tag\":label,\"confidence\":confidence} for word,(label,confidence) in zip(words,labels)]\n",
    "    #     return output\n",
    "    # \n",
    "\n",
    "    def _preprocess(self, text):\n",
    "        \"\"\" \"\"\"\n",
    "        tokenized_document = self.tokenizer.encode(text)\n",
    "        input_ids = []\n",
    "        input_mask = [1] * len(input_ids)\n",
    "        while len(input_ids) < self.max_seq_length:\n",
    "            input_ids.append(0)\n",
    "            input_mask.append(0) \n",
    "        return input_ids,input_mask"
   ]
  },
  {
   "cell_type": "code",
   "execution_count": 4,
   "metadata": {
    "pycharm": {
     "is_executing": false,
     "name": "#%%\n"
    }
   },
   "outputs": [
    {
     "name": "stdout",
     "output_type": "stream",
     "text": [
      "Loaded BERT head, config, and tokenizer\n"
     ]
    },
    {
     "ename": "TypeError",
     "evalue": "'BertWordPieceTokenizer' object is not callable",
     "output_type": "error",
     "traceback": [
      "\u001b[1;31m---------------------------------------------------------------------------\u001b[0m",
      "\u001b[1;31mTypeError\u001b[0m                                 Traceback (most recent call last)",
      "\u001b[1;32m<ipython-input-4-e3f7ef67ac15>\u001b[0m in \u001b[0;36m<module>\u001b[1;34m\u001b[0m\n\u001b[0;32m      8\u001b[0m          \u001b[0mhead_directory\u001b[0m\u001b[1;33m=\u001b[0m\u001b[1;34m\"models/SubwordClassificationHead_iepa_gene_checkpoint_20\"\u001b[0m\u001b[1;33m,\u001b[0m\u001b[1;33m\u001b[0m\u001b[1;33m\u001b[0m\u001b[0m\n\u001b[0;32m      9\u001b[0m          use_tf_model=True)\n\u001b[1;32m---> 10\u001b[1;33m \u001b[0mprint\u001b[0m\u001b[1;33m(\u001b[0m\u001b[0mfoo\u001b[0m\u001b[1;33m.\u001b[0m\u001b[0mtokenizer\u001b[0m\u001b[1;33m(\u001b[0m\u001b[1;34m\"hello anyways\"\u001b[0m\u001b[1;33m)\u001b[0m\u001b[1;33m)\u001b[0m\u001b[1;33m\u001b[0m\u001b[1;33m\u001b[0m\u001b[0m\n\u001b[0m",
      "\u001b[1;31mTypeError\u001b[0m: 'BertWordPieceTokenizer' object is not callable"
     ]
    }
   ],
   "source": [
    "PATH_TO_VOCAB = 'models/vocab.txt'\n",
    "# data_dir = 'raw-data'\n",
    "PATH_TO_MODEL = \"../models\"\n",
    "PATH_TO_FILE = '../raw-data/ACS-100/sb3/sb3000723.txt'\n",
    "# with open(path_to_file, encoding='utf8') as f:\n",
    "#     document_as_string = f.read()  # does this work for large documents?\n",
    "foo = InferNER(base_model_directory=\"models/biobert_v1.1_pubmed\",\n",
    "         head_directory=\"models/SubwordClassificationHead_iepa_gene_checkpoint_20\",\n",
    "         use_tf_model=True)\n"
   ]
  },
  {
   "cell_type": "code",
   "execution_count": 18,
   "metadata": {},
   "outputs": [
    {
     "name": "stdout",
     "output_type": "stream",
     "text": [
      "['[CLS]', 'Hello', ',', 'good', 'morning', 'anyway', '##s', '.', '[SEP]']\n"
     ]
    }
   ],
   "source": [
    "x = foo.tokenizer.encode_batch([\"Hello, good morning anyways.\", \"I'd like to start by say blue\"])\n",
    "print(x[0].tokens)"
   ]
  }
 ],
 "metadata": {
  "kernelspec": {
   "display_name": "PyCharm (synbiobert)",
   "language": "python",
   "name": "pycharm-a9251040"
  },
  "language_info": {
   "codemirror_mode": {
    "name": "ipython",
    "version": 3
   },
   "file_extension": ".py",
   "mimetype": "text/x-python",
   "name": "python",
   "nbconvert_exporter": "python",
   "pygments_lexer": "ipython3",
   "version": "3.7.6"
  },
  "pycharm": {
   "stem_cell": {
    "cell_type": "raw",
    "metadata": {
     "collapsed": false
    },
    "source": []
   }
  }
 },
 "nbformat": 4,
 "nbformat_minor": 1
}
