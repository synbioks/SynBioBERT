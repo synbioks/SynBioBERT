{
 "cells": [
  {
   "cell_type": "code",
   "execution_count": 18,
   "metadata": {},
   "outputs": [],
   "source": [
    "import pandas as pd\n",
    "import torch"
   ]
  },
  {
   "cell_type": "code",
   "execution_count": 12,
   "metadata": {
    "pycharm": {
     "is_executing": true
    }
   },
   "outputs": [
    {
     "name": "stdout",
     "output_type": "stream",
     "text": [
      "True\n",
      "Predicting SubwordClassificationHead_iepa_gene\n",
      "Finished in 9.48 seconds\n"
     ]
    }
   ],
   "source": [
    "# %cd ../\n",
    "%run infer.py"
   ]
  },
  {
   "cell_type": "code",
   "execution_count": 17,
   "metadata": {
    "scrolled": true
   },
   "outputs": [
    {
     "data": {
      "text/html": [
       "<div>\n",
       "<style scoped>\n",
       "    .dataframe tbody tr th:only-of-type {\n",
       "        vertical-align: middle;\n",
       "    }\n",
       "\n",
       "    .dataframe tbody tr th {\n",
       "        vertical-align: top;\n",
       "    }\n",
       "\n",
       "    .dataframe thead th {\n",
       "        text-align: right;\n",
       "    }\n",
       "</style>\n",
       "<table border=\"1\" class=\"dataframe\">\n",
       "  <thead>\n",
       "    <tr style=\"text-align: right;\">\n",
       "      <th></th>\n",
       "      <th>0</th>\n",
       "      <th>1</th>\n",
       "      <th>2</th>\n",
       "      <th>3</th>\n",
       "      <th>4</th>\n",
       "      <th>5</th>\n",
       "      <th>6</th>\n",
       "      <th>7</th>\n",
       "      <th>8</th>\n",
       "      <th>9</th>\n",
       "      <th>...</th>\n",
       "      <th>502</th>\n",
       "      <th>503</th>\n",
       "      <th>504</th>\n",
       "      <th>505</th>\n",
       "      <th>506</th>\n",
       "      <th>507</th>\n",
       "      <th>508</th>\n",
       "      <th>509</th>\n",
       "      <th>510</th>\n",
       "      <th>511</th>\n",
       "    </tr>\n",
       "  </thead>\n",
       "  <tbody>\n",
       "    <tr>\n",
       "      <th>0</th>\n",
       "      <td>[CLS]</td>\n",
       "      <td>Rep</td>\n",
       "      <td>##res</td>\n",
       "      <td>##entation</td>\n",
       "      <td>[SEP]</td>\n",
       "      <td>[PAD]</td>\n",
       "      <td>[PAD]</td>\n",
       "      <td>[PAD]</td>\n",
       "      <td>[PAD]</td>\n",
       "      <td>[PAD]</td>\n",
       "      <td>...</td>\n",
       "      <td>[PAD]</td>\n",
       "      <td>[PAD]</td>\n",
       "      <td>[PAD]</td>\n",
       "      <td>[PAD]</td>\n",
       "      <td>[PAD]</td>\n",
       "      <td>[PAD]</td>\n",
       "      <td>[PAD]</td>\n",
       "      <td>[PAD]</td>\n",
       "      <td>[PAD]</td>\n",
       "      <td>[PAD]</td>\n",
       "    </tr>\n",
       "    <tr>\n",
       "      <th>1</th>\n",
       "      <td>101</td>\n",
       "      <td>20777</td>\n",
       "      <td>4894</td>\n",
       "      <td>20936</td>\n",
       "      <td>102</td>\n",
       "      <td>0</td>\n",
       "      <td>0</td>\n",
       "      <td>0</td>\n",
       "      <td>0</td>\n",
       "      <td>0</td>\n",
       "      <td>...</td>\n",
       "      <td>0</td>\n",
       "      <td>0</td>\n",
       "      <td>0</td>\n",
       "      <td>0</td>\n",
       "      <td>0</td>\n",
       "      <td>0</td>\n",
       "      <td>0</td>\n",
       "      <td>0</td>\n",
       "      <td>0</td>\n",
       "      <td>0</td>\n",
       "    </tr>\n",
       "  </tbody>\n",
       "</table>\n",
       "<p>2 rows × 512 columns</p>\n",
       "</div>"
      ],
      "text/plain": [
       "     0      1      2           3      4      5      6      7      8      9    \\\n",
       "0  [CLS]    Rep  ##res  ##entation  [SEP]  [PAD]  [PAD]  [PAD]  [PAD]  [PAD]   \n",
       "1    101  20777   4894       20936    102      0      0      0      0      0   \n",
       "\n",
       "   ...    502    503    504    505    506    507    508    509    510    511  \n",
       "0  ...  [PAD]  [PAD]  [PAD]  [PAD]  [PAD]  [PAD]  [PAD]  [PAD]  [PAD]  [PAD]  \n",
       "1  ...      0      0      0      0      0      0      0      0      0      0  \n",
       "\n",
       "[2 rows x 512 columns]"
      ]
     },
     "execution_count": 17,
     "metadata": {},
     "output_type": "execute_result"
    }
   ],
   "source": [
    "# Tokenized representation\n",
    "encoding = foo.tokenizer.encode('Representation')\n",
    "pd.DataFrame([encoding.tokens, encoding.ids])\n",
    "# dir(encoding)"
   ]
  },
  {
   "cell_type": "code",
   "execution_count": 25,
   "metadata": {},
   "outputs": [
    {
     "data": {
      "text/plain": [
       "['[CLS]', 'Rep', '##res', '##entation', '[SEP]']"
      ]
     },
     "execution_count": 25,
     "metadata": {},
     "output_type": "execute_result"
    }
   ],
   "source": [
    "# get tokenized representation\n",
    "import os\n",
    "from tokenizers import BertWordPieceTokenizer\n",
    "path_to_bert_model = 'C:/Users/User/nlp/projects/synbiobert/models/biobert_v1.1_pubmed'\n",
    "tokenizer = BertWordPieceTokenizer(os.path.join(path_to_bert_model, \"vocab.txt\"), lowercase=False)\n",
    "\n",
    "tokenizer.encode('Representation').tokens\n",
    "bert."
   ]
  },
  {
   "cell_type": "code",
   "execution_count": null,
   "metadata": {},
   "outputs": [],
   "source": [
    "# get tensor represetation\n",
    "with torch.no_grad()"
   ]
  }
 ],
 "metadata": {
  "kernelspec": {
   "display_name": "PyCharm (synbiobert)",
   "language": "python",
   "name": "pycharm-a9251040"
  },
  "language_info": {
   "codemirror_mode": {
    "name": "ipython",
    "version": 3
   },
   "file_extension": ".py",
   "mimetype": "text/x-python",
   "name": "python",
   "nbconvert_exporter": "python",
   "pygments_lexer": "ipython3",
   "version": "3.7.6"
  },
  "pycharm": {
   "stem_cell": {
    "cell_type": "raw",
    "metadata": {
     "collapsed": false
    },
    "source": []
   }
  }
 },
 "nbformat": 4,
 "nbformat_minor": 1
}
